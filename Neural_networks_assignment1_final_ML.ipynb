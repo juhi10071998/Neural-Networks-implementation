{
  "nbformat": 4,
  "nbformat_minor": 0,
  "metadata": {
    "colab": {
      "name": "Neural_networks_assignment1_final_ML.ipynb",
      "provenance": [],
      "collapsed_sections": []
    },
    "kernelspec": {
      "name": "python3",
      "display_name": "Python 3"
    }
  },
  "cells": [
    {
      "cell_type": "code",
      "metadata": {
        "id": "QZLT6Ajddue9",
        "colab_type": "code",
        "outputId": "a5f66f4c-9afb-45c7-93c8-44d04be78905",
        "colab": {
          "base_uri": "https://localhost:8080/",
          "height": 125
        }
      },
      "source": [
        "from google.colab import drive\n",
        "drive.mount('/content/gdrive')"
      ],
      "execution_count": 0,
      "outputs": [
        {
          "output_type": "stream",
          "text": [
            "Go to this URL in a browser: https://accounts.google.com/o/oauth2/auth?client_id=947318989803-6bn6qk8qdgf4n4g3pfee6491hc0brc4i.apps.googleusercontent.com&redirect_uri=urn%3aietf%3awg%3aoauth%3a2.0%3aoob&response_type=code&scope=email%20https%3a%2f%2fwww.googleapis.com%2fauth%2fdocs.test%20https%3a%2f%2fwww.googleapis.com%2fauth%2fdrive%20https%3a%2f%2fwww.googleapis.com%2fauth%2fdrive.photos.readonly%20https%3a%2f%2fwww.googleapis.com%2fauth%2fpeopleapi.readonly\n",
            "\n",
            "Enter your authorization code:\n",
            "··········\n",
            "Mounted at /content/gdrive\n"
          ],
          "name": "stdout"
        }
      ]
    },
    {
      "cell_type": "code",
      "metadata": {
        "id": "KcQboIBNmDIq",
        "colab_type": "code",
        "outputId": "190a13e8-ee4d-45b7-8111-d113aea69349",
        "colab": {
          "base_uri": "https://localhost:8080/",
          "height": 34
        }
      },
      "source": [
        "cd /content/gdrive/My Drive/ML_ASSIGNMENT_2_1"
      ],
      "execution_count": 0,
      "outputs": [
        {
          "output_type": "stream",
          "text": [
            "/content/gdrive/My Drive/ML_ASSIGNMENT_2_1\n"
          ],
          "name": "stdout"
        }
      ]
    },
    {
      "cell_type": "code",
      "metadata": {
        "id": "GPJp6hSlKz21",
        "colab_type": "code",
        "outputId": "ae6b5678-f2b1-4c77-8909-dbc7d3f0229e",
        "colab": {
          "base_uri": "https://localhost:8080/",
          "height": 514
        }
      },
      "source": [
        "ls"
      ],
      "execution_count": 0,
      "outputs": [
        {
          "output_type": "stream",
          "text": [
            " a1_d3.txt\n",
            " bank_forged_note_1.csv\n",
            " bank_forged_note.csv\n",
            " bank_forged_note.gsheet\n",
            " data1.txt\n",
            " data2.txt\n",
            " data3.txt\n",
            " data4.txt\n",
            " data5.txt\n",
            " data_banknote_authentication.txt\n",
            " housepricedata.csv\n",
            "'Logistic regression_final_with.ipynb'\n",
            "'Logistic regression_final_without.ipynb'\n",
            " ML_2_1.ipynb\n",
            " ML_222\n",
            " ML_2_2.ipynb\n",
            "'Naive Bayes.ipynb'\n",
            " Naive_bayes_sa.ipynb\n",
            " neural_net.ipynb\n",
            " neural_networks_assignment1_finall.ipynb\n",
            " neural_networks_assignment.ipynb\n",
            " stopword.txt\n",
            " test1.txt\n",
            " test2.txt\n",
            " test3.txt\n",
            " test4.txt\n",
            " test5.txt\n",
            " Untitled0.ipynb\n"
          ],
          "name": "stdout"
        }
      ]
    },
    {
      "cell_type": "code",
      "metadata": {
        "id": "ebozx4NwmSuX",
        "colab_type": "code",
        "colab": {}
      },
      "source": [
        "def initialise(nn_architecture, seed = 99):\n",
        "  np.random.seed(seed)\n",
        "  parameters = {}\n",
        "  for index,layer in enumerate(nn_architecture):\n",
        "    input_size=layer[\"input_dim\"]\n",
        "    output_size=layer[\"output_dim\"]\n",
        "    parameters['W'+str(index+1)]=np.random.randn(output_size,input_size)*0.1\n",
        "    parameters['b'+str(index+1)]=np.random.randn(output_size,1)*0.1\n",
        "  return parameters"
      ],
      "execution_count": 0,
      "outputs": []
    },
    {
      "cell_type": "code",
      "metadata": {
        "id": "l-sysGAZn2xN",
        "colab_type": "code",
        "colab": {}
      },
      "source": [
        "import numpy as np\n",
        "from sklearn.model_selection import train_test_split"
      ],
      "execution_count": 0,
      "outputs": []
    },
    {
      "cell_type": "code",
      "metadata": {
        "id": "4v77FOxAn_ff",
        "colab_type": "code",
        "colab": {}
      },
      "source": [
        "import pandas as pd"
      ],
      "execution_count": 0,
      "outputs": []
    },
    {
      "cell_type": "code",
      "metadata": {
        "id": "ALiGx2F_oB43",
        "colab_type": "code",
        "colab": {}
      },
      "source": [
        "def sigmoid(Z):\n",
        "  A=1/(1+np.exp(-Z))\n",
        "  np.clip(A,0,1,A)\n",
        "  return A"
      ],
      "execution_count": 0,
      "outputs": []
    },
    {
      "cell_type": "code",
      "metadata": {
        "id": "zXoW5Cr9qXSk",
        "colab_type": "code",
        "colab": {}
      },
      "source": [
        "def relu(Z):\n",
        "    return np.maximum(0,Z)"
      ],
      "execution_count": 0,
      "outputs": []
    },
    {
      "cell_type": "code",
      "metadata": {
        "id": "x3_urqFJqgHD",
        "colab_type": "code",
        "colab": {}
      },
      "source": [
        "def sigmoid_backward(dA, Z):\n",
        "    sig = sigmoid(Z)\n",
        "    return dA * sig * (1 - sig)"
      ],
      "execution_count": 0,
      "outputs": []
    },
    {
      "cell_type": "code",
      "metadata": {
        "id": "crEPI5iiqgxa",
        "colab_type": "code",
        "colab": {}
      },
      "source": [
        "def relu_backward(dA, Z):\n",
        "    dZ = np.array(dA, copy = True)\n",
        "    dZ[Z <= 0] = 0;\n",
        "    return dZ;"
      ],
      "execution_count": 0,
      "outputs": []
    },
    {
      "cell_type": "code",
      "metadata": {
        "id": "1OqwAFEGfJ-U",
        "colab_type": "code",
        "colab": {}
      },
      "source": [
        "def tanh(Z):\n",
        "  A=(np.exp(Z)-np.exp(-Z))/(np.exp(Z)+np.exp(-Z))\n",
        "  return A"
      ],
      "execution_count": 0,
      "outputs": []
    },
    {
      "cell_type": "code",
      "metadata": {
        "id": "IdlcqSIQfkqN",
        "colab_type": "code",
        "colab": {}
      },
      "source": [
        "def tanh_backward(dA,Z):\n",
        "  A=tanh(Z)\n",
        "  A=1-np.square(A)\n",
        "  return A"
      ],
      "execution_count": 0,
      "outputs": []
    },
    {
      "cell_type": "code",
      "metadata": {
        "id": "pRuzrBZI0qaR",
        "colab_type": "code",
        "colab": {}
      },
      "source": [
        "def precision(yTest,Y_test_hat):\n",
        "  p=0\n",
        "  t=0\n",
        "  for i in range(yTest.shape[0]):\n",
        "    if Y_test_hat[0][i]>0.5:\n",
        "      Y_test_hat[0][i]=1\n",
        "    else:\n",
        "      Y_test_hat[0][i]=0\n",
        "    if yTest[i][0]==1 and Y_test_hat[0][i]==1:\n",
        "      t=t+1;\n",
        "    if(Y_test_hat[0][i]==1):\n",
        "      p=p+1;\n",
        "  #print(t)\n",
        "  #print(p)\n",
        "  return t/p"
      ],
      "execution_count": 0,
      "outputs": []
    },
    {
      "cell_type": "code",
      "metadata": {
        "id": "kXqIYSEN5UcV",
        "colab_type": "code",
        "outputId": "7e52e252-f0e0-4159-e388-41d0cfb8f2e7",
        "colab": {
          "base_uri": "https://localhost:8080/",
          "height": 34
        }
      },
      "source": [
        "precision(yTest,Y_test_hat)"
      ],
      "execution_count": 0,
      "outputs": [
        {
          "output_type": "execute_result",
          "data": {
            "text/plain": [
              "0.8872180451127819"
            ]
          },
          "metadata": {
            "tags": []
          },
          "execution_count": 74
        }
      ]
    },
    {
      "cell_type": "code",
      "metadata": {
        "id": "zJwQxisJ0xBj",
        "colab_type": "code",
        "colab": {}
      },
      "source": [
        "def recall(yTest,Y_test_hat):\n",
        "  p=0\n",
        "  t=0\n",
        "  for i in range(yTest.shape[0]):\n",
        "    if Y_test_hat[0][i]>0.5:\n",
        "      Y_test_hat[0][i]=1\n",
        "    else:\n",
        "      Y_test_hat[0][i]=0\n",
        "    if yTest[i][0]==1 and Y_test_hat[0][i]==1:\n",
        "      t+=1;\n",
        "    if(yTest[i][0]==1):\n",
        "      p+=1;\n",
        "  #print(t)\n",
        "  #print(p)\n",
        "  return t/p"
      ],
      "execution_count": 0,
      "outputs": []
    },
    {
      "cell_type": "code",
      "metadata": {
        "id": "Y20MqY7G5cFu",
        "colab_type": "code",
        "outputId": "ccade661-c4d4-41c6-81ab-1339c119f2d1",
        "colab": {
          "base_uri": "https://localhost:8080/",
          "height": 34
        }
      },
      "source": [
        "recall(yTest,Y_test_hat)"
      ],
      "execution_count": 0,
      "outputs": [
        {
          "output_type": "execute_result",
          "data": {
            "text/plain": [
              "0.8027210884353742"
            ]
          },
          "metadata": {
            "tags": []
          },
          "execution_count": 76
        }
      ]
    },
    {
      "cell_type": "code",
      "metadata": {
        "id": "_GKBX1r_05kn",
        "colab_type": "code",
        "colab": {}
      },
      "source": [
        "def f_score(yTest,Y_test_hat):\n",
        "  p=precision(yTest,Y_test_hat)\n",
        "  r=recall(yTest,Y_test_hat)\n",
        "  return 2*p*r/(p+r)"
      ],
      "execution_count": 0,
      "outputs": []
    },
    {
      "cell_type": "code",
      "metadata": {
        "id": "EuclJGPTq0Y2",
        "colab_type": "code",
        "colab": {}
      },
      "source": [
        "def single_forward(A_prev, W_curr, b_curr, activation=\"relu\"):\n",
        "\n",
        "    Z_curr = np.dot(W_curr, A_prev) + b_curr\n",
        "    if activation is \"relu\":\n",
        "        func = relu\n",
        "    elif activation is \"sigmoid\":\n",
        "        func = sigmoid\n",
        "    elif activation is \"tanh\":\n",
        "        func=tanh\n",
        "    return func(Z_curr), Z_curr"
      ],
      "execution_count": 0,
      "outputs": []
    },
    {
      "cell_type": "code",
      "metadata": {
        "id": "GSGNTk0yrcLP",
        "colab_type": "code",
        "colab": {}
      },
      "source": [
        "def full_forward(X, parameters, nn_architecture):\n",
        "    #We create a memory to store the value of Z and A calculated at each step, these are req in backprop\n",
        "    memory = {}\n",
        "    #for first hidden layer we have the input fed in is X\n",
        "    A_curr = X\n",
        "    \n",
        "    # iteration over network layers\n",
        "    for idx, layer in enumerate(nn_architecture):\n",
        "        # we number network layers from 1\n",
        "        layer_idx = idx + 1\n",
        "        # passing activation value ahead\n",
        "        A_prev = A_curr\n",
        "        \n",
        "        # extraction of the activation function for the current layer, extract W and n from parameter list for respective layer.\n",
        "        activation = layer[\"activation\"]\n",
        "        W_curr = parameters[\"W\" + str(layer_idx)]\n",
        "        b_curr = parameters[\"b\" + str(layer_idx)]\n",
        "        A_curr, Z_curr = single_forward(A_prev, W_curr, b_curr, activation)\n",
        "        \n",
        "        # saving calculated values in the memory\n",
        "        memory[\"A\" + str(idx)] = A_prev\n",
        "        memory[\"Z\" + str(layer_idx)] = Z_curr\n",
        "       \n",
        "    # return of prediction vector and a dictionary containing intermediate values\n",
        "    return A_curr, memory"
      ],
      "execution_count": 0,
      "outputs": []
    },
    {
      "cell_type": "code",
      "metadata": {
        "id": "zEdtPl0E4PIS",
        "colab_type": "code",
        "colab": {}
      },
      "source": [
        "def get_cost_value(Y_hat,Y):\n",
        "  m=Y.shape[1]\n",
        "  cost=1/m*(np.dot(Y-Y_hat,(Y-Y_hat).T))\n",
        "  return np.squeeze(cost)"
      ],
      "execution_count": 0,
      "outputs": []
    },
    {
      "cell_type": "code",
      "metadata": {
        "id": "a-TyPJCk4XEx",
        "colab_type": "code",
        "colab": {}
      },
      "source": [
        ""
      ],
      "execution_count": 0,
      "outputs": []
    },
    {
      "cell_type": "code",
      "metadata": {
        "id": "X6Fphb28t-u4",
        "colab_type": "code",
        "colab": {}
      },
      "source": [
        "#converting to 0 and 1 fr classification\n",
        "def convert_prob_into_class(probs):\n",
        "    prob = np.copy(probs)\n",
        "    prob[prob > 0.5] = 1\n",
        "    prob[prob <= 0.5] = 0\n",
        "    return prob"
      ],
      "execution_count": 0,
      "outputs": []
    },
    {
      "cell_type": "code",
      "metadata": {
        "id": "DvV2hMt3uCa8",
        "colab_type": "code",
        "colab": {}
      },
      "source": [
        "def get_accuracy(Y_hat, Y):\n",
        "    Y_hat_ = convert_prob_into_class(Y_hat)\n",
        "    return (Y_hat_ == Y).all(axis=0).mean()"
      ],
      "execution_count": 0,
      "outputs": []
    },
    {
      "cell_type": "code",
      "metadata": {
        "id": "6xs3-om-uDBs",
        "colab_type": "code",
        "colab": {}
      },
      "source": [
        "def single_layer_backward_propagation(dA_curr, W_curr, Z_curr, A_prev, activation=\"relu\"):\n",
        "    # number of examples\n",
        "    m = A_prev.shape[1]\n",
        "    \n",
        "    # selection of activation function\n",
        "    if activation is \"relu\":\n",
        "        backward_activation = relu_backward\n",
        "    elif activation is \"sigmoid\":\n",
        "        backward_activation = sigmoid_backward\n",
        "    elif activation is \"tanh\":\n",
        "        backard_activation= tanh_backward\n",
        "    dZ_curr = backward_activation(dA_curr, Z_curr)\n",
        "    #first get dZ and then backpropagate it to get gradients\n",
        "    \n",
        "    dW_curr = np.dot(dZ_curr, A_prev.T) / m\n",
        "    db_curr = np.sum(dZ_curr, axis=1, keepdims=True) / m\n",
        "    dA_prev = np.dot(W_curr.T, dZ_curr)\n",
        "    return dA_prev, dW_curr, db_curr"
      ],
      "execution_count": 0,
      "outputs": []
    },
    {
      "cell_type": "code",
      "metadata": {
        "id": "uKhmVNqlujK1",
        "colab_type": "code",
        "colab": {}
      },
      "source": [
        "def full_backward(Y_hat, Y, memory, parameters, nn_architecture):\n",
        "    gradients = {}\n",
        "    \n",
        "    # number of examples\n",
        "    m = Y.shape[1]\n",
        "    #dA_prev = - (np.divide(Y, Y_hat) - np.divide(1 - Y, 1 - Y_hat));\n",
        "    #for the initial step in the last layer, we calculate the gradient manually and then this gradient is backpropagated through all the layers,\n",
        "    # by getting dZ first as all variables combine to give Z, chain rule applied.\n",
        "    dA_prev=-2*(Y-Y_hat)\n",
        "    \n",
        "    for layer_idx_prev, layer in reversed(list(enumerate(nn_architecture))):\n",
        "        # we number network layers from 1\n",
        "        layer_idx_curr = layer_idx_prev + 1\n",
        "        # extraction of the activation function for the current layer\n",
        "        activ_function_curr = layer[\"activation\"]\n",
        "        \n",
        "        dA_curr = dA_prev\n",
        "        \n",
        "        A_prev = memory[\"A\" + str(layer_idx_prev)]\n",
        "        Z_curr = memory[\"Z\" + str(layer_idx_curr)]\n",
        "        W_curr = parameters[\"W\" + str(layer_idx_curr)]\n",
        "        \n",
        "        dA_prev, dW_curr, db_curr = single_layer_backward_propagation(\n",
        "            dA_curr, W_curr, Z_curr, A_prev, activ_function_curr)\n",
        "        \n",
        "        gradients[\"dW\" + str(layer_idx_curr)] = dW_curr\n",
        "        gradients[\"db\" + str(layer_idx_curr)] = db_curr\n",
        "    \n",
        "    return gradients"
      ],
      "execution_count": 0,
      "outputs": []
    },
    {
      "cell_type": "code",
      "metadata": {
        "id": "dlD_2OiGu5Xv",
        "colab_type": "code",
        "colab": {}
      },
      "source": [
        "def update(parameters, grads_values, nn_architecture, learning_rate):\n",
        "\n",
        "    # iteration over network layers\n",
        "    for layer_idx, layer in enumerate(nn_architecture, 1):\n",
        "        parameters[\"W\" + str(layer_idx)] -= learning_rate * grads_values[\"dW\" + str(layer_idx)]        \n",
        "        parameters[\"b\" + str(layer_idx)] -= learning_rate * grads_values[\"db\" + str(layer_idx)]\n",
        "\n",
        "    return parameters"
      ],
      "execution_count": 0,
      "outputs": []
    },
    {
      "cell_type": "code",
      "metadata": {
        "id": "cXEIBJaju7c4",
        "colab_type": "code",
        "colab": {}
      },
      "source": [
        "def train(X, Y, nn_architecture, epochs, learning_rate, verbose=True):\n",
        "    # initiation of neural net parameters\n",
        "    parameters = initialise(nn_architecture, 2)\n",
        "    cost_hist=[]\n",
        "    acc_hist=[]\n",
        " # performing calculations for subsequent iterations, move one full step forward, then backpropagate the error, then update all the weights, again move forward.\n",
        "    for i in range(epochs):\n",
        "        # step forward\n",
        "        Y_hat, mem = full_forward(X, parameters, nn_architecture)\n",
        "        \n",
        "        # calculating metrics and saving them in history\n",
        "        cost = get_cost_value(Y_hat, Y)\n",
        "        cost_hist.append(cost)\n",
        "        accuracy = get_accuracy(Y_hat, Y)\n",
        "        acc_hist.append(accuracy)\n",
        "\n",
        "        gradients = full_backward(Y_hat, Y, mem, parameters, nn_architecture)\n",
        "        parameters = update(parameters, gradients, nn_architecture, learning_rate)\n",
        "        \n",
        "        if(i % 50 == 0):\n",
        "            if(verbose):\n",
        "                print(\"Iteration: {:05} - cost: {:.5f} - accuracy: {:.5f}\".format(i, cost, accuracy))\n",
        "            \n",
        "    return parameters,cost_hist,acc_hist"
      ],
      "execution_count": 0,
      "outputs": []
    },
    {
      "cell_type": "code",
      "metadata": {
        "id": "i1v9xBOfvORO",
        "colab_type": "code",
        "colab": {}
      },
      "source": [
        "df=pd.read_csv('housepricedata.csv')"
      ],
      "execution_count": 0,
      "outputs": []
    },
    {
      "cell_type": "code",
      "metadata": {
        "id": "cByUr3NtvTgQ",
        "colab_type": "code",
        "colab": {}
      },
      "source": [
        "Y=df['AboveMedianPrice']\n",
        "X=df.iloc[:,:-1]"
      ],
      "execution_count": 0,
      "outputs": []
    },
    {
      "cell_type": "code",
      "metadata": {
        "id": "j4zdo6HzjKKc",
        "colab_type": "code",
        "outputId": "3951bff2-d109-4a09-98c3-cb41ba6d8a05",
        "colab": {
          "base_uri": "https://localhost:8080/",
          "height": 34
        }
      },
      "source": [
        "X.shape"
      ],
      "execution_count": 0,
      "outputs": [
        {
          "output_type": "execute_result",
          "data": {
            "text/plain": [
              "(1460, 10)"
            ]
          },
          "metadata": {
            "tags": []
          },
          "execution_count": 89
        }
      ]
    },
    {
      "cell_type": "code",
      "metadata": {
        "id": "hLfq8xcvvWEN",
        "colab_type": "code",
        "colab": {}
      },
      "source": [
        "#min_max_scaler to normalise features between 0 and 1\n",
        "for col in X.columns:\n",
        "  min1=X[col].min()\n",
        "  max1=X[col].max()\n",
        "  a=max1-min1\n",
        "  X[col]=X[col]-min1\n",
        "  X[col]=X[col]/a\n"
      ],
      "execution_count": 0,
      "outputs": []
    },
    {
      "cell_type": "code",
      "metadata": {
        "id": "jacNaflMv0YX",
        "colab_type": "code",
        "outputId": "7a3c191a-b30d-43c2-bc4b-1bdc9d51332f",
        "colab": {
          "base_uri": "https://localhost:8080/",
          "height": 406
        }
      },
      "source": [
        "X"
      ],
      "execution_count": 0,
      "outputs": [
        {
          "output_type": "execute_result",
          "data": {
            "text/html": [
              "<div>\n",
              "<style scoped>\n",
              "    .dataframe tbody tr th:only-of-type {\n",
              "        vertical-align: middle;\n",
              "    }\n",
              "\n",
              "    .dataframe tbody tr th {\n",
              "        vertical-align: top;\n",
              "    }\n",
              "\n",
              "    .dataframe thead th {\n",
              "        text-align: right;\n",
              "    }\n",
              "</style>\n",
              "<table border=\"1\" class=\"dataframe\">\n",
              "  <thead>\n",
              "    <tr style=\"text-align: right;\">\n",
              "      <th></th>\n",
              "      <th>LotArea</th>\n",
              "      <th>OverallQual</th>\n",
              "      <th>OverallCond</th>\n",
              "      <th>TotalBsmtSF</th>\n",
              "      <th>FullBath</th>\n",
              "      <th>HalfBath</th>\n",
              "      <th>BedroomAbvGr</th>\n",
              "      <th>TotRmsAbvGrd</th>\n",
              "      <th>Fireplaces</th>\n",
              "      <th>GarageArea</th>\n",
              "    </tr>\n",
              "  </thead>\n",
              "  <tbody>\n",
              "    <tr>\n",
              "      <th>0</th>\n",
              "      <td>0.033420</td>\n",
              "      <td>0.666667</td>\n",
              "      <td>0.500</td>\n",
              "      <td>0.140098</td>\n",
              "      <td>0.666667</td>\n",
              "      <td>0.5</td>\n",
              "      <td>0.375</td>\n",
              "      <td>0.500000</td>\n",
              "      <td>0.000000</td>\n",
              "      <td>0.386460</td>\n",
              "    </tr>\n",
              "    <tr>\n",
              "      <th>1</th>\n",
              "      <td>0.038795</td>\n",
              "      <td>0.555556</td>\n",
              "      <td>0.875</td>\n",
              "      <td>0.206547</td>\n",
              "      <td>0.666667</td>\n",
              "      <td>0.0</td>\n",
              "      <td>0.375</td>\n",
              "      <td>0.333333</td>\n",
              "      <td>0.333333</td>\n",
              "      <td>0.324401</td>\n",
              "    </tr>\n",
              "    <tr>\n",
              "      <th>2</th>\n",
              "      <td>0.046507</td>\n",
              "      <td>0.666667</td>\n",
              "      <td>0.500</td>\n",
              "      <td>0.150573</td>\n",
              "      <td>0.666667</td>\n",
              "      <td>0.5</td>\n",
              "      <td>0.375</td>\n",
              "      <td>0.333333</td>\n",
              "      <td>0.333333</td>\n",
              "      <td>0.428773</td>\n",
              "    </tr>\n",
              "    <tr>\n",
              "      <th>3</th>\n",
              "      <td>0.038561</td>\n",
              "      <td>0.666667</td>\n",
              "      <td>0.500</td>\n",
              "      <td>0.123732</td>\n",
              "      <td>0.333333</td>\n",
              "      <td>0.0</td>\n",
              "      <td>0.375</td>\n",
              "      <td>0.416667</td>\n",
              "      <td>0.333333</td>\n",
              "      <td>0.452750</td>\n",
              "    </tr>\n",
              "    <tr>\n",
              "      <th>4</th>\n",
              "      <td>0.060576</td>\n",
              "      <td>0.777778</td>\n",
              "      <td>0.500</td>\n",
              "      <td>0.187398</td>\n",
              "      <td>0.666667</td>\n",
              "      <td>0.5</td>\n",
              "      <td>0.500</td>\n",
              "      <td>0.583333</td>\n",
              "      <td>0.333333</td>\n",
              "      <td>0.589563</td>\n",
              "    </tr>\n",
              "    <tr>\n",
              "      <th>...</th>\n",
              "      <td>...</td>\n",
              "      <td>...</td>\n",
              "      <td>...</td>\n",
              "      <td>...</td>\n",
              "      <td>...</td>\n",
              "      <td>...</td>\n",
              "      <td>...</td>\n",
              "      <td>...</td>\n",
              "      <td>...</td>\n",
              "      <td>...</td>\n",
              "    </tr>\n",
              "    <tr>\n",
              "      <th>1455</th>\n",
              "      <td>0.030929</td>\n",
              "      <td>0.555556</td>\n",
              "      <td>0.500</td>\n",
              "      <td>0.155974</td>\n",
              "      <td>0.666667</td>\n",
              "      <td>0.5</td>\n",
              "      <td>0.375</td>\n",
              "      <td>0.416667</td>\n",
              "      <td>0.333333</td>\n",
              "      <td>0.324401</td>\n",
              "    </tr>\n",
              "    <tr>\n",
              "      <th>1456</th>\n",
              "      <td>0.055505</td>\n",
              "      <td>0.555556</td>\n",
              "      <td>0.625</td>\n",
              "      <td>0.252373</td>\n",
              "      <td>0.666667</td>\n",
              "      <td>0.0</td>\n",
              "      <td>0.375</td>\n",
              "      <td>0.416667</td>\n",
              "      <td>0.666667</td>\n",
              "      <td>0.352609</td>\n",
              "    </tr>\n",
              "    <tr>\n",
              "      <th>1457</th>\n",
              "      <td>0.036187</td>\n",
              "      <td>0.666667</td>\n",
              "      <td>1.000</td>\n",
              "      <td>0.188543</td>\n",
              "      <td>0.666667</td>\n",
              "      <td>0.0</td>\n",
              "      <td>0.500</td>\n",
              "      <td>0.583333</td>\n",
              "      <td>0.666667</td>\n",
              "      <td>0.177715</td>\n",
              "    </tr>\n",
              "    <tr>\n",
              "      <th>1458</th>\n",
              "      <td>0.039342</td>\n",
              "      <td>0.444444</td>\n",
              "      <td>0.625</td>\n",
              "      <td>0.176432</td>\n",
              "      <td>0.333333</td>\n",
              "      <td>0.0</td>\n",
              "      <td>0.250</td>\n",
              "      <td>0.250000</td>\n",
              "      <td>0.000000</td>\n",
              "      <td>0.169252</td>\n",
              "    </tr>\n",
              "    <tr>\n",
              "      <th>1459</th>\n",
              "      <td>0.040370</td>\n",
              "      <td>0.444444</td>\n",
              "      <td>0.625</td>\n",
              "      <td>0.205565</td>\n",
              "      <td>0.333333</td>\n",
              "      <td>0.5</td>\n",
              "      <td>0.375</td>\n",
              "      <td>0.333333</td>\n",
              "      <td>0.000000</td>\n",
              "      <td>0.194640</td>\n",
              "    </tr>\n",
              "  </tbody>\n",
              "</table>\n",
              "<p>1460 rows × 10 columns</p>\n",
              "</div>"
            ],
            "text/plain": [
              "       LotArea  OverallQual  OverallCond  ...  TotRmsAbvGrd  Fireplaces  GarageArea\n",
              "0     0.033420     0.666667        0.500  ...      0.500000    0.000000    0.386460\n",
              "1     0.038795     0.555556        0.875  ...      0.333333    0.333333    0.324401\n",
              "2     0.046507     0.666667        0.500  ...      0.333333    0.333333    0.428773\n",
              "3     0.038561     0.666667        0.500  ...      0.416667    0.333333    0.452750\n",
              "4     0.060576     0.777778        0.500  ...      0.583333    0.333333    0.589563\n",
              "...        ...          ...          ...  ...           ...         ...         ...\n",
              "1455  0.030929     0.555556        0.500  ...      0.416667    0.333333    0.324401\n",
              "1456  0.055505     0.555556        0.625  ...      0.416667    0.666667    0.352609\n",
              "1457  0.036187     0.666667        1.000  ...      0.583333    0.666667    0.177715\n",
              "1458  0.039342     0.444444        0.625  ...      0.250000    0.000000    0.169252\n",
              "1459  0.040370     0.444444        0.625  ...      0.333333    0.000000    0.194640\n",
              "\n",
              "[1460 rows x 10 columns]"
            ]
          },
          "metadata": {
            "tags": []
          },
          "execution_count": 91
        }
      ]
    },
    {
      "cell_type": "code",
      "metadata": {
        "id": "TrA0MHpLnOON",
        "colab_type": "code",
        "colab": {}
      },
      "source": [
        "import pandas as pd\n",
        "pd.options.mode.chained_assignment = None  "
      ],
      "execution_count": 0,
      "outputs": []
    },
    {
      "cell_type": "code",
      "metadata": {
        "id": "arfedt7Snq0P",
        "colab_type": "code",
        "colab": {}
      },
      "source": [
        ""
      ],
      "execution_count": 0,
      "outputs": []
    },
    {
      "cell_type": "code",
      "metadata": {
        "id": "sNzlM9jRvnBm",
        "colab_type": "code",
        "colab": {}
      },
      "source": [
        "from sklearn.model_selection import train_test_split\n",
        "xTrain, xTest, yTrain, yTest = train_test_split(X,Y, test_size = 0.2, random_state = 0)"
      ],
      "execution_count": 0,
      "outputs": []
    },
    {
      "cell_type": "code",
      "metadata": {
        "id": "uKojAeczvoHd",
        "colab_type": "code",
        "outputId": "5ae36606-d7b4-4138-d06e-312664974712",
        "colab": {
          "base_uri": "https://localhost:8080/",
          "height": 34
        }
      },
      "source": [
        "yTrain.shape"
      ],
      "execution_count": 0,
      "outputs": [
        {
          "output_type": "execute_result",
          "data": {
            "text/plain": [
              "(1168,)"
            ]
          },
          "metadata": {
            "tags": []
          },
          "execution_count": 94
        }
      ]
    },
    {
      "cell_type": "code",
      "metadata": {
        "id": "ezprj3TSvsTg",
        "colab_type": "code",
        "outputId": "b08d5511-af47-4ea7-b764-8bd452e97650",
        "colab": {
          "base_uri": "https://localhost:8080/",
          "height": 34
        }
      },
      "source": [
        "xTrain.shape"
      ],
      "execution_count": 0,
      "outputs": [
        {
          "output_type": "execute_result",
          "data": {
            "text/plain": [
              "(1168, 10)"
            ]
          },
          "metadata": {
            "tags": []
          },
          "execution_count": 95
        }
      ]
    },
    {
      "cell_type": "code",
      "metadata": {
        "id": "b0K9HKNNvu1N",
        "colab_type": "code",
        "colab": {}
      },
      "source": [
        "NN_ARCHITECTURE = [ {\"input_dim\": 10, \"output_dim\": 500, \"activation\": \"relu\"}, \n",
        "                   {\"input_dim\": 500, \"output_dim\": 500, \"activation\": \"relu\"},\n",
        "                   {\"input_dim\": 500, \"output_dim\": 150, \"activation\": \"sigmoid\"}, \n",
        "                   {\"input_dim\": 150, \"output_dim\": 125, \"activation\": \"sigmoid\"}, \n",
        "                   {\"input_dim\": 125, \"output_dim\": 1, \"activation\": \"sigmoid\"}, ]"
      ],
      "execution_count": 0,
      "outputs": []
    },
    {
      "cell_type": "code",
      "metadata": {
        "id": "jayAZ4KTvybT",
        "colab_type": "code",
        "colab": {}
      },
      "source": [
        "arr=np.ones(1168).reshape((1168,1))"
      ],
      "execution_count": 0,
      "outputs": []
    },
    {
      "cell_type": "code",
      "metadata": {
        "id": "4rHClCGuv1NZ",
        "colab_type": "code",
        "colab": {}
      },
      "source": [
        "for i in range(1168):\n",
        "  arr[i][0]=yTrain.iloc[i]"
      ],
      "execution_count": 0,
      "outputs": []
    },
    {
      "cell_type": "code",
      "metadata": {
        "id": "fcLY28K0v4G4",
        "colab_type": "code",
        "colab": {}
      },
      "source": [
        "yTrain=arr"
      ],
      "execution_count": 0,
      "outputs": []
    },
    {
      "cell_type": "code",
      "metadata": {
        "id": "Tc_S-R7m4jeV",
        "colab_type": "code",
        "colab": {}
      },
      "source": [
        "arr=np.ones(292).reshape((292,1))"
      ],
      "execution_count": 0,
      "outputs": []
    },
    {
      "cell_type": "code",
      "metadata": {
        "id": "y4Gwev7E4lk5",
        "colab_type": "code",
        "colab": {}
      },
      "source": [
        "for i in range(292):\n",
        "  arr[i][0]=yTest.iloc[i]"
      ],
      "execution_count": 0,
      "outputs": []
    },
    {
      "cell_type": "code",
      "metadata": {
        "id": "Qxbm-qGr4n2I",
        "colab_type": "code",
        "colab": {}
      },
      "source": [
        "yTest=arr"
      ],
      "execution_count": 0,
      "outputs": []
    },
    {
      "cell_type": "code",
      "metadata": {
        "id": "nyNM3BtTjWVi",
        "colab_type": "code",
        "colab": {}
      },
      "source": [
        "NN_ARCHITECTURE2= [ {\"input_dim\": 10, \"output_dim\": 500, \"activation\": \"relu\"}, \n",
        "                   {\"input_dim\": 500, \"output_dim\": 400, \"activation\": \"sigmoid\"},\n",
        "                   {\"input_dim\": 400, \"output_dim\": 1, \"activation\": \"sigmoid\"} ]\n",
        "                   #epochs=2000,lr-0.08"
      ],
      "execution_count": 0,
      "outputs": []
    },
    {
      "cell_type": "code",
      "metadata": {
        "id": "l7Y6fQGelLnh",
        "colab_type": "code",
        "colab": {}
      },
      "source": [
        "NN_ARCHITECTURE3= [ {\"input_dim\": 10, \"output_dim\": 100, \"activation\": \"relu\"}, \n",
        "                   {\"input_dim\": 100, \"output_dim\": 100, \"activation\": \"sigmoid\"},\n",
        "                   {\"input_dim\": 100, \"output_dim\": 1, \"activation\": \"sigmoid\"}]\n",
        "                   #epochs=2000,lr=0.05"
      ],
      "execution_count": 0,
      "outputs": []
    },
    {
      "cell_type": "code",
      "metadata": {
        "id": "a_Ut_vLHqD7h",
        "colab_type": "code",
        "colab": {}
      },
      "source": [
        "NN_ARCHITECTURE4= [ {\"input_dim\": 10, \"output_dim\": 50, \"activation\": \"relu\"}, \n",
        "                   {\"input_dim\": 50, \"output_dim\": 50, \"activation\": \"sigmoid\"},\n",
        "                   {\"input_dim\": 50, \"output_dim\": 1, \"activation\": \"sigmoid\"} ]\n",
        "                   #epochs=2000,lr=0.05"
      ],
      "execution_count": 0,
      "outputs": []
    },
    {
      "cell_type": "code",
      "metadata": {
        "id": "J1ru75doA1G7",
        "colab_type": "code",
        "colab": {}
      },
      "source": [
        "NN_ARCHITECTURE5= [  \n",
        "                   {\"input_dim\": 10, \"output_dim\": 10, \"activation\": \"sigmoid\"},\n",
        "                   {\"input_dim\": 10, \"output_dim\": 1, \"activation\": \"sigmoid\"} ]\n",
        "                   #epochs=2000,lr=0.05"
      ],
      "execution_count": 0,
      "outputs": []
    },
    {
      "cell_type": "code",
      "metadata": {
        "id": "YQGo5YBw2Z9C",
        "colab_type": "code",
        "colab": {}
      },
      "source": [
        "import matplotlib.pyplot as plt"
      ],
      "execution_count": 0,
      "outputs": []
    },
    {
      "cell_type": "code",
      "metadata": {
        "id": "TxU1AX9bLwfi",
        "colab_type": "code",
        "colab": {}
      },
      "source": [
        "def final_model(xTrain,yTrain,NN_ARCHITECTURE,num_epochs,lr,xTest,yTest):\n",
        "  param_values,cost_hist,acc_hist=train(np.transpose(xTrain), np.transpose(yTrain.reshape((yTrain.shape[0], 1))), NN_ARCHITECTURE, num_epochs,lr)\n",
        "  Y_test_hat, _ = full_forward(np.transpose(xTest), param_values, NN_ARCHITECTURE)\n",
        "  acc_test = get_accuracy(Y_test_hat, np.transpose(yTest.reshape((yTest.shape[0], 1))))\n",
        "  print(\"Test set accuracy: {:.2f}\".format(acc_test))\n",
        "  print(\"fscore is\")\n",
        "  print(f_score(yTest,Y_test_hat))\n",
        "  cost=[]\n",
        "  acc=[]\n",
        "  for i in range(len(cost_hist)):\n",
        "    if i%50==0:\n",
        "      cost.append(cost_hist[i])\n",
        "      acc.append(acc_hist[i])\n",
        "  epoch_count=np.arange(1,num_epochs,50)\n",
        "  # Visualize loss history\n",
        "  plt.plot(epoch_count, cost, 'r--')\n",
        "  plt.plot(epoch_count, acc, 'b--')\n",
        "  plt.legend(['Training Loss', 'Accuracy'])\n",
        "  plt.xlabel('Iterations')\n",
        "  plt.ylabel('Loss/Accuracy')\n",
        "  plt.show();"
      ],
      "execution_count": 0,
      "outputs": []
    },
    {
      "cell_type": "code",
      "metadata": {
        "id": "UWYQChz2N7E-",
        "colab_type": "code",
        "outputId": "db4c04d5-9bbd-491b-8637-07bea42e2e38",
        "colab": {
          "base_uri": "https://localhost:8080/",
          "height": 1000
        }
      },
      "source": [
        "final_model(xTrain,yTrain,NN_ARCHITECTURE,2000,0.05,xTest,yTest)"
      ],
      "execution_count": 0,
      "outputs": [
        {
          "output_type": "stream",
          "text": [
            "Iteration: 00000 - cost: 0.26377 - accuracy: 0.50257\n",
            "Iteration: 00050 - cost: 0.24796 - accuracy: 0.72003\n",
            "Iteration: 00100 - cost: 0.24654 - accuracy: 0.77568\n",
            "Iteration: 00150 - cost: 0.24506 - accuracy: 0.80137\n",
            "Iteration: 00200 - cost: 0.24348 - accuracy: 0.82021\n",
            "Iteration: 00250 - cost: 0.24172 - accuracy: 0.82363\n",
            "Iteration: 00300 - cost: 0.23975 - accuracy: 0.83134\n",
            "Iteration: 00350 - cost: 0.23751 - accuracy: 0.82962\n",
            "Iteration: 00400 - cost: 0.23493 - accuracy: 0.83562\n",
            "Iteration: 00450 - cost: 0.23192 - accuracy: 0.83134\n",
            "Iteration: 00500 - cost: 0.22836 - accuracy: 0.83476\n",
            "Iteration: 00550 - cost: 0.22416 - accuracy: 0.83476\n",
            "Iteration: 00600 - cost: 0.21916 - accuracy: 0.83476\n",
            "Iteration: 00650 - cost: 0.21326 - accuracy: 0.83818\n",
            "Iteration: 00700 - cost: 0.20633 - accuracy: 0.83990\n",
            "Iteration: 00750 - cost: 0.19833 - accuracy: 0.84247\n",
            "Iteration: 00800 - cost: 0.18929 - accuracy: 0.84332\n",
            "Iteration: 00850 - cost: 0.17941 - accuracy: 0.84418\n",
            "Iteration: 00900 - cost: 0.16902 - accuracy: 0.84589\n",
            "Iteration: 00950 - cost: 0.15864 - accuracy: 0.85017\n",
            "Iteration: 01000 - cost: 0.14878 - accuracy: 0.85274\n",
            "Iteration: 01050 - cost: 0.13986 - accuracy: 0.85531\n",
            "Iteration: 01100 - cost: 0.13211 - accuracy: 0.85873\n",
            "Iteration: 01150 - cost: 0.12555 - accuracy: 0.86130\n",
            "Iteration: 01200 - cost: 0.12008 - accuracy: 0.85959\n",
            "Iteration: 01250 - cost: 0.11553 - accuracy: 0.86216\n",
            "Iteration: 01300 - cost: 0.11174 - accuracy: 0.86216\n",
            "Iteration: 01350 - cost: 0.10857 - accuracy: 0.86387\n",
            "Iteration: 01400 - cost: 0.10590 - accuracy: 0.86729\n",
            "Iteration: 01450 - cost: 0.10363 - accuracy: 0.86815\n",
            "Iteration: 01500 - cost: 0.10168 - accuracy: 0.86815\n",
            "Iteration: 01550 - cost: 0.09999 - accuracy: 0.86986\n",
            "Iteration: 01600 - cost: 0.09852 - accuracy: 0.87158\n",
            "Iteration: 01650 - cost: 0.09723 - accuracy: 0.87243\n",
            "Iteration: 01700 - cost: 0.09608 - accuracy: 0.87243\n",
            "Iteration: 01750 - cost: 0.09505 - accuracy: 0.87243\n",
            "Iteration: 01800 - cost: 0.09412 - accuracy: 0.87414\n",
            "Iteration: 01850 - cost: 0.09326 - accuracy: 0.87414\n",
            "Iteration: 01900 - cost: 0.09248 - accuracy: 0.87500\n",
            "Iteration: 01950 - cost: 0.09175 - accuracy: 0.87586\n",
            "Test set accuracy: 0.92\n",
            "0.9266666666666667\n"
          ],
          "name": "stdout"
        },
        {
          "output_type": "display_data",
          "data": {
            "image/png": "[encoded data removed]",
            "text/plain": [
              "<Figure size 432x288 with 1 Axes>"
            ]
          },
          "metadata": {
            "tags": [],
            "needs_background": "light"
          }
        }
      ]
    },
    {
      "cell_type": "code",
      "metadata": {
        "id": "xdgXAWf7R1BO",
        "colab_type": "code",
        "outputId": "aa0ae6e4-913f-44d2-d8f9-80042497355e",
        "colab": {
          "base_uri": "https://localhost:8080/",
          "height": 1000
        }
      },
      "source": [
        "final_model(xTrain,yTrain,NN_ARCHITECTURE2,2000,0.05,xTest,yTest)"
      ],
      "execution_count": 0,
      "outputs": [
        {
          "output_type": "stream",
          "text": [
            "Iteration: 00000 - cost: 0.26646 - accuracy: 0.49743\n",
            "Iteration: 00050 - cost: 0.23900 - accuracy: 0.82192\n",
            "Iteration: 00100 - cost: 0.22562 - accuracy: 0.84589\n",
            "Iteration: 00150 - cost: 0.21307 - accuracy: 0.85188\n",
            "Iteration: 00200 - cost: 0.20138 - accuracy: 0.85360\n",
            "Iteration: 00250 - cost: 0.19039 - accuracy: 0.85702\n",
            "Iteration: 00300 - cost: 0.18003 - accuracy: 0.85702\n",
            "Iteration: 00350 - cost: 0.17036 - accuracy: 0.85616\n",
            "Iteration: 00400 - cost: 0.16145 - accuracy: 0.85531\n",
            "Iteration: 00450 - cost: 0.15338 - accuracy: 0.85531\n",
            "Iteration: 00500 - cost: 0.14618 - accuracy: 0.85702\n",
            "Iteration: 00550 - cost: 0.13983 - accuracy: 0.85788\n",
            "Iteration: 00600 - cost: 0.13429 - accuracy: 0.85788\n",
            "Iteration: 00650 - cost: 0.12946 - accuracy: 0.85788\n",
            "Iteration: 00700 - cost: 0.12525 - accuracy: 0.86301\n",
            "Iteration: 00750 - cost: 0.12157 - accuracy: 0.86301\n",
            "Iteration: 00800 - cost: 0.11834 - accuracy: 0.85873\n",
            "Iteration: 00850 - cost: 0.11550 - accuracy: 0.85788\n",
            "Iteration: 00900 - cost: 0.11300 - accuracy: 0.86045\n",
            "Iteration: 00950 - cost: 0.11077 - accuracy: 0.86216\n",
            "Iteration: 01000 - cost: 0.10878 - accuracy: 0.86301\n",
            "Iteration: 01050 - cost: 0.10700 - accuracy: 0.86387\n",
            "Iteration: 01100 - cost: 0.10540 - accuracy: 0.86473\n",
            "Iteration: 01150 - cost: 0.10396 - accuracy: 0.86473\n",
            "Iteration: 01200 - cost: 0.10265 - accuracy: 0.86644\n",
            "Iteration: 01250 - cost: 0.10146 - accuracy: 0.86901\n",
            "Iteration: 01300 - cost: 0.10037 - accuracy: 0.87072\n",
            "Iteration: 01350 - cost: 0.09937 - accuracy: 0.87158\n",
            "Iteration: 01400 - cost: 0.09845 - accuracy: 0.87243\n",
            "Iteration: 01450 - cost: 0.09760 - accuracy: 0.87329\n",
            "Iteration: 01500 - cost: 0.09682 - accuracy: 0.87329\n",
            "Iteration: 01550 - cost: 0.09610 - accuracy: 0.87414\n",
            "Iteration: 01600 - cost: 0.09544 - accuracy: 0.87586\n",
            "Iteration: 01650 - cost: 0.09482 - accuracy: 0.87671\n",
            "Iteration: 01700 - cost: 0.09424 - accuracy: 0.87671\n",
            "Iteration: 01750 - cost: 0.09370 - accuracy: 0.87757\n",
            "Iteration: 01800 - cost: 0.09319 - accuracy: 0.88014\n",
            "Iteration: 01850 - cost: 0.09271 - accuracy: 0.87928\n",
            "Iteration: 01900 - cost: 0.09225 - accuracy: 0.88014\n",
            "Iteration: 01950 - cost: 0.09182 - accuracy: 0.88014\n",
            "Test set accuracy: 0.93\n",
            "fscore is\n",
            "0.9328859060402686\n"
          ],
          "name": "stdout"
        },
        {
          "output_type": "display_data",
          "data": {
            "image/png": "[encoded data removed]",
            "text/plain": [
              "<Figure size 432x288 with 1 Axes>"
            ]
          },
          "metadata": {
            "tags": [],
            "needs_background": "light"
          }
        }
      ]
    },
    {
      "cell_type": "code",
      "metadata": {
        "id": "v8SQCJ6_-ykS",
        "colab_type": "code",
        "colab": {}
      },
      "source": [
        ""
      ],
      "execution_count": 0,
      "outputs": []
    },
    {
      "cell_type": "code",
      "metadata": {
        "id": "3-U-3kCbR2CK",
        "colab_type": "code",
        "outputId": "365a6365-b0be-4a48-c269-dc46789c2325",
        "colab": {
          "base_uri": "https://localhost:8080/",
          "height": 687
        }
      },
      "source": [
        "final_model(xTrain,yTrain,NN_ARCHITECTURE3,1000,0.05,xTest,yTest)"
      ],
      "execution_count": 0,
      "outputs": [
        {
          "output_type": "stream",
          "text": [
            "Iteration: 00000 - cost: 0.27008 - accuracy: 0.50257\n",
            "Iteration: 00050 - cost: 0.24993 - accuracy: 0.50514\n",
            "Iteration: 00100 - cost: 0.24926 - accuracy: 0.61901\n",
            "Iteration: 00150 - cost: 0.24859 - accuracy: 0.73545\n",
            "Iteration: 00200 - cost: 0.24792 - accuracy: 0.77226\n",
            "Iteration: 00250 - cost: 0.24722 - accuracy: 0.79024\n",
            "Iteration: 00300 - cost: 0.24649 - accuracy: 0.80993\n",
            "Iteration: 00350 - cost: 0.24572 - accuracy: 0.82192\n",
            "Iteration: 00400 - cost: 0.24489 - accuracy: 0.83476\n",
            "Iteration: 00450 - cost: 0.24397 - accuracy: 0.84247\n",
            "Iteration: 00500 - cost: 0.24292 - accuracy: 0.84503\n",
            "Iteration: 00550 - cost: 0.24178 - accuracy: 0.84675\n",
            "Iteration: 00600 - cost: 0.24055 - accuracy: 0.84846\n",
            "Iteration: 00650 - cost: 0.23922 - accuracy: 0.85103\n",
            "Iteration: 00700 - cost: 0.23777 - accuracy: 0.85445\n",
            "Iteration: 00750 - cost: 0.23616 - accuracy: 0.85445\n",
            "Iteration: 00800 - cost: 0.23437 - accuracy: 0.85873\n",
            "Iteration: 00850 - cost: 0.23237 - accuracy: 0.85616\n",
            "Iteration: 00900 - cost: 0.23015 - accuracy: 0.85616\n",
            "Iteration: 00950 - cost: 0.22769 - accuracy: 0.85959\n",
            "Test set accuracy: 0.89\n",
            "fscore is\n",
            "0.8963210702341137\n"
          ],
          "name": "stdout"
        },
        {
          "output_type": "display_data",
          "data": {
            "image/png": "[encoded data removed]",
            "text/plain": [
              "<Figure size 432x288 with 1 Axes>"
            ]
          },
          "metadata": {
            "tags": [],
            "needs_background": "light"
          }
        }
      ]
    },
    {
      "cell_type": "code",
      "metadata": {
        "id": "VHqSdCN6_IuL",
        "colab_type": "code",
        "colab": {}
      },
      "source": [
        ""
      ],
      "execution_count": 0,
      "outputs": []
    },
    {
      "cell_type": "code",
      "metadata": {
        "id": "HTNWMzgHR2xK",
        "colab_type": "code",
        "outputId": "967f753d-b4c8-4bbe-8cdb-9c501789232b",
        "colab": {
          "base_uri": "https://localhost:8080/",
          "height": 1000
        }
      },
      "source": [
        "final_model(xTrain,yTrain,NN_ARCHITECTURE4,2000,0.05,xTest,yTest)"
      ],
      "execution_count": 0,
      "outputs": [
        {
          "output_type": "stream",
          "text": [
            "Iteration: 00000 - cost: 0.25460 - accuracy: 0.49743\n",
            "Iteration: 00050 - cost: 0.25073 - accuracy: 0.47346\n",
            "Iteration: 00100 - cost: 0.25050 - accuracy: 0.50171\n",
            "Iteration: 00150 - cost: 0.25029 - accuracy: 0.50171\n",
            "Iteration: 00200 - cost: 0.25010 - accuracy: 0.50171\n",
            "Iteration: 00250 - cost: 0.24992 - accuracy: 0.50171\n",
            "Iteration: 00300 - cost: 0.24974 - accuracy: 0.50257\n",
            "Iteration: 00350 - cost: 0.24957 - accuracy: 0.50514\n",
            "Iteration: 00400 - cost: 0.24941 - accuracy: 0.51284\n",
            "Iteration: 00450 - cost: 0.24924 - accuracy: 0.52312\n",
            "Iteration: 00500 - cost: 0.24907 - accuracy: 0.54880\n",
            "Iteration: 00550 - cost: 0.24889 - accuracy: 0.58904\n",
            "Iteration: 00600 - cost: 0.24871 - accuracy: 0.61729\n",
            "Iteration: 00650 - cost: 0.24851 - accuracy: 0.64555\n",
            "Iteration: 00700 - cost: 0.24830 - accuracy: 0.65839\n",
            "Iteration: 00750 - cost: 0.24807 - accuracy: 0.67723\n",
            "Iteration: 00800 - cost: 0.24781 - accuracy: 0.68151\n",
            "Iteration: 00850 - cost: 0.24754 - accuracy: 0.71147\n",
            "Iteration: 00900 - cost: 0.24723 - accuracy: 0.72945\n",
            "Iteration: 00950 - cost: 0.24689 - accuracy: 0.74658\n",
            "Iteration: 01000 - cost: 0.24652 - accuracy: 0.76027\n",
            "Iteration: 01050 - cost: 0.24611 - accuracy: 0.77055\n",
            "Iteration: 01100 - cost: 0.24566 - accuracy: 0.78682\n",
            "Iteration: 01150 - cost: 0.24517 - accuracy: 0.79623\n",
            "Iteration: 01200 - cost: 0.24463 - accuracy: 0.81250\n",
            "Iteration: 01250 - cost: 0.24405 - accuracy: 0.82192\n",
            "Iteration: 01300 - cost: 0.24341 - accuracy: 0.82277\n",
            "Iteration: 01350 - cost: 0.24271 - accuracy: 0.82705\n",
            "Iteration: 01400 - cost: 0.24194 - accuracy: 0.83647\n",
            "Iteration: 01450 - cost: 0.24108 - accuracy: 0.83647\n",
            "Iteration: 01500 - cost: 0.24014 - accuracy: 0.83904\n",
            "Iteration: 01550 - cost: 0.23910 - accuracy: 0.84247\n",
            "Iteration: 01600 - cost: 0.23795 - accuracy: 0.84503\n",
            "Iteration: 01650 - cost: 0.23666 - accuracy: 0.84760\n",
            "Iteration: 01700 - cost: 0.23523 - accuracy: 0.84760\n",
            "Iteration: 01750 - cost: 0.23364 - accuracy: 0.84932\n",
            "Iteration: 01800 - cost: 0.23186 - accuracy: 0.84846\n",
            "Iteration: 01850 - cost: 0.22987 - accuracy: 0.85017\n",
            "Iteration: 01900 - cost: 0.22766 - accuracy: 0.85360\n",
            "Iteration: 01950 - cost: 0.22520 - accuracy: 0.84932\n",
            "Test set accuracy: 0.89\n",
            "fscore is\n",
            "0.8896321070234113\n"
          ],
          "name": "stdout"
        },
        {
          "output_type": "display_data",
          "data": {
            "image/png": "[encoded data removed]",
            "text/plain": [
              "<Figure size 432x288 with 1 Axes>"
            ]
          },
          "metadata": {
            "tags": [],
            "needs_background": "light"
          }
        }
      ]
    },
    {
      "cell_type": "code",
      "metadata": {
        "id": "jH3TL3XyStCF",
        "colab_type": "code",
        "outputId": "61198dfa-5933-4646-86c7-cda13bf9baaa",
        "colab": {
          "base_uri": "https://localhost:8080/",
          "height": 652
        }
      },
      "source": [
        "final_model(xTrain,yTrain,NN_ARCHITECTURE5,1000,0.05,xTest,yTest)"
      ],
      "execution_count": 0,
      "outputs": [
        {
          "output_type": "stream",
          "text": [
            "Iteration: 00000 - cost: 0.25762 - accuracy: 0.49743\n",
            "Iteration: 00050 - cost: 0.24969 - accuracy: 0.63870\n",
            "Iteration: 00100 - cost: 0.24950 - accuracy: 0.50856\n",
            "Iteration: 00150 - cost: 0.24932 - accuracy: 0.51541\n",
            "Iteration: 00200 - cost: 0.24913 - accuracy: 0.52140\n",
            "Iteration: 00250 - cost: 0.24892 - accuracy: 0.52654\n",
            "Iteration: 00300 - cost: 0.24871 - accuracy: 0.54281\n",
            "Iteration: 00350 - cost: 0.24847 - accuracy: 0.58904\n",
            "Iteration: 00400 - cost: 0.24822 - accuracy: 0.61729\n",
            "Iteration: 00450 - cost: 0.24795 - accuracy: 0.65411\n",
            "Iteration: 00500 - cost: 0.24766 - accuracy: 0.69264\n",
            "Iteration: 00550 - cost: 0.24734 - accuracy: 0.71918\n",
            "Iteration: 00600 - cost: 0.24700 - accuracy: 0.74829\n",
            "Iteration: 00650 - cost: 0.24662 - accuracy: 0.78168\n",
            "Iteration: 00700 - cost: 0.24621 - accuracy: 0.80394\n",
            "Iteration: 00750 - cost: 0.24576 - accuracy: 0.81336\n",
            "Iteration: 00800 - cost: 0.24526 - accuracy: 0.82791\n",
            "Iteration: 00850 - cost: 0.24472 - accuracy: 0.83818\n",
            "Iteration: 00900 - cost: 0.24413 - accuracy: 0.84675\n",
            "Iteration: 00950 - cost: 0.24349 - accuracy: 0.84503\n",
            "Test set accuracy: 0.87\n"
          ],
          "name": "stdout"
        },
        {
          "output_type": "display_data",
          "data": {
            "image/png": "[encoded data removed]",
            "text/plain": [
              "<Figure size 432x288 with 1 Axes>"
            ]
          },
          "metadata": {
            "tags": [],
            "needs_background": "light"
          }
        }
      ]
    },
    {
      "cell_type": "code",
      "metadata": {
        "id": "ANUo6WSzA_dJ",
        "colab_type": "code",
        "outputId": "f136fd63-1ea1-401f-c8fb-6160d9a0031d",
        "colab": {
          "base_uri": "https://localhost:8080/",
          "height": 1000
        }
      },
      "source": [
        "final_model(xTrain,yTrain,NN_ARCHITECTURE5,2000,0.05,xTest,yTest)"
      ],
      "execution_count": 0,
      "outputs": [
        {
          "output_type": "stream",
          "text": [
            "Iteration: 00000 - cost: 0.25435 - accuracy: 0.50257\n",
            "Iteration: 00050 - cost: 0.25030 - accuracy: 0.50257\n",
            "Iteration: 00100 - cost: 0.24974 - accuracy: 0.50257\n",
            "Iteration: 00150 - cost: 0.24958 - accuracy: 0.50342\n",
            "Iteration: 00200 - cost: 0.24946 - accuracy: 0.50856\n",
            "Iteration: 00250 - cost: 0.24935 - accuracy: 0.51969\n",
            "Iteration: 00300 - cost: 0.24923 - accuracy: 0.52825\n",
            "Iteration: 00350 - cost: 0.24911 - accuracy: 0.54110\n",
            "Iteration: 00400 - cost: 0.24898 - accuracy: 0.55822\n",
            "Iteration: 00450 - cost: 0.24885 - accuracy: 0.58048\n",
            "Iteration: 00500 - cost: 0.24872 - accuracy: 0.58990\n",
            "Iteration: 00550 - cost: 0.24858 - accuracy: 0.60531\n",
            "Iteration: 00600 - cost: 0.24843 - accuracy: 0.62243\n",
            "Iteration: 00650 - cost: 0.24828 - accuracy: 0.64212\n",
            "Iteration: 00700 - cost: 0.24812 - accuracy: 0.65068\n",
            "Iteration: 00750 - cost: 0.24795 - accuracy: 0.66610\n",
            "Iteration: 00800 - cost: 0.24778 - accuracy: 0.68836\n",
            "Iteration: 00850 - cost: 0.24760 - accuracy: 0.70805\n",
            "Iteration: 00900 - cost: 0.24740 - accuracy: 0.72089\n",
            "Iteration: 00950 - cost: 0.24720 - accuracy: 0.73630\n",
            "Iteration: 01000 - cost: 0.24698 - accuracy: 0.75428\n",
            "Iteration: 01050 - cost: 0.24676 - accuracy: 0.77911\n",
            "Iteration: 01100 - cost: 0.24652 - accuracy: 0.79795\n",
            "Iteration: 01150 - cost: 0.24627 - accuracy: 0.80908\n",
            "Iteration: 01200 - cost: 0.24600 - accuracy: 0.82106\n",
            "Iteration: 01250 - cost: 0.24572 - accuracy: 0.83305\n",
            "Iteration: 01300 - cost: 0.24542 - accuracy: 0.83818\n",
            "Iteration: 01350 - cost: 0.24510 - accuracy: 0.84332\n",
            "Iteration: 01400 - cost: 0.24477 - accuracy: 0.84932\n",
            "Iteration: 01450 - cost: 0.24442 - accuracy: 0.85103\n",
            "Iteration: 01500 - cost: 0.24405 - accuracy: 0.85188\n",
            "Iteration: 01550 - cost: 0.24366 - accuracy: 0.84846\n",
            "Iteration: 01600 - cost: 0.24324 - accuracy: 0.85103\n",
            "Iteration: 01650 - cost: 0.24281 - accuracy: 0.85531\n",
            "Iteration: 01700 - cost: 0.24235 - accuracy: 0.85531\n",
            "Iteration: 01750 - cost: 0.24186 - accuracy: 0.85616\n",
            "Iteration: 01800 - cost: 0.24135 - accuracy: 0.85445\n",
            "Iteration: 01850 - cost: 0.24081 - accuracy: 0.85702\n",
            "Iteration: 01900 - cost: 0.24025 - accuracy: 0.85702\n",
            "Iteration: 01950 - cost: 0.23965 - accuracy: 0.85873\n",
            "Test set accuracy: 0.89\n",
            "fscore is\n",
            "0.8918918918918919\n"
          ],
          "name": "stdout"
        },
        {
          "output_type": "display_data",
          "data": {
            "image/png": "[encoded data removed]",
            "text/plain": [
              "<Figure size 432x288 with 1 Axes>"
            ]
          },
          "metadata": {
            "tags": [],
            "needs_background": "light"
          }
        }
      ]
    },
    {
      "cell_type": "code",
      "metadata": {
        "id": "hdi4XxYRBUIm",
        "colab_type": "code",
        "colab": {}
      },
      "source": [
        ""
      ],
      "execution_count": 0,
      "outputs": []
    },
    {
      "cell_type": "code",
      "metadata": {
        "id": "4RbITzZOskmO",
        "colab_type": "code",
        "colab": {}
      },
      "source": [
        "NN_ARCHITECTURE6= [ {\"input_dim\": 10, \"output_dim\": 50, \"activation\": \"relu\"}, \n",
        "                   {\"input_dim\": 50, \"output_dim\": 40, \"activation\": \"sigmoid\"},\n",
        "                   {\"input_dim\": 40, \"output_dim\": 1, \"activation\": \"sigmoid\"}, ]\n",
        "                   #epochs=1000,lr-0.08"
      ],
      "execution_count": 0,
      "outputs": []
    },
    {
      "cell_type": "code",
      "metadata": {
        "id": "GqyK6tQzBb-d",
        "colab_type": "code",
        "outputId": "45c196a4-7579-477e-8405-a8c617e6926f",
        "colab": {
          "base_uri": "https://localhost:8080/",
          "height": 1000
        }
      },
      "source": [
        "final_model(xTrain,yTrain,NN_ARCHITECTURE6,2000,0.05,xTest,yTest)"
      ],
      "execution_count": 0,
      "outputs": [
        {
          "output_type": "stream",
          "text": [
            "Iteration: 00000 - cost: 0.25762 - accuracy: 0.49743\n",
            "Iteration: 00050 - cost: 0.24969 - accuracy: 0.63870\n",
            "Iteration: 00100 - cost: 0.24950 - accuracy: 0.50856\n",
            "Iteration: 00150 - cost: 0.24932 - accuracy: 0.51541\n",
            "Iteration: 00200 - cost: 0.24913 - accuracy: 0.52140\n",
            "Iteration: 00250 - cost: 0.24892 - accuracy: 0.52654\n",
            "Iteration: 00300 - cost: 0.24871 - accuracy: 0.54281\n",
            "Iteration: 00350 - cost: 0.24847 - accuracy: 0.58904\n",
            "Iteration: 00400 - cost: 0.24822 - accuracy: 0.61729\n",
            "Iteration: 00450 - cost: 0.24795 - accuracy: 0.65411\n",
            "Iteration: 00500 - cost: 0.24766 - accuracy: 0.69264\n",
            "Iteration: 00550 - cost: 0.24734 - accuracy: 0.71918\n",
            "Iteration: 00600 - cost: 0.24700 - accuracy: 0.74829\n",
            "Iteration: 00650 - cost: 0.24662 - accuracy: 0.78168\n",
            "Iteration: 00700 - cost: 0.24621 - accuracy: 0.80394\n",
            "Iteration: 00750 - cost: 0.24576 - accuracy: 0.81336\n",
            "Iteration: 00800 - cost: 0.24526 - accuracy: 0.82791\n",
            "Iteration: 00850 - cost: 0.24472 - accuracy: 0.83818\n",
            "Iteration: 00900 - cost: 0.24413 - accuracy: 0.84675\n",
            "Iteration: 00950 - cost: 0.24349 - accuracy: 0.84503\n",
            "Iteration: 01000 - cost: 0.24279 - accuracy: 0.84675\n",
            "Iteration: 01050 - cost: 0.24203 - accuracy: 0.84675\n",
            "Iteration: 01100 - cost: 0.24119 - accuracy: 0.85788\n",
            "Iteration: 01150 - cost: 0.24026 - accuracy: 0.86045\n",
            "Iteration: 01200 - cost: 0.23924 - accuracy: 0.85873\n",
            "Iteration: 01250 - cost: 0.23811 - accuracy: 0.86216\n",
            "Iteration: 01300 - cost: 0.23685 - accuracy: 0.86130\n",
            "Iteration: 01350 - cost: 0.23546 - accuracy: 0.86301\n",
            "Iteration: 01400 - cost: 0.23391 - accuracy: 0.86301\n",
            "Iteration: 01450 - cost: 0.23219 - accuracy: 0.86473\n",
            "Iteration: 01500 - cost: 0.23029 - accuracy: 0.86558\n",
            "Iteration: 01550 - cost: 0.22817 - accuracy: 0.86387\n",
            "Iteration: 01600 - cost: 0.22583 - accuracy: 0.86387\n",
            "Iteration: 01650 - cost: 0.22324 - accuracy: 0.86216\n",
            "Iteration: 01700 - cost: 0.22039 - accuracy: 0.85959\n",
            "Iteration: 01750 - cost: 0.21726 - accuracy: 0.86216\n",
            "Iteration: 01800 - cost: 0.21385 - accuracy: 0.86130\n",
            "Iteration: 01850 - cost: 0.21014 - accuracy: 0.86301\n",
            "Iteration: 01900 - cost: 0.20615 - accuracy: 0.86216\n",
            "Iteration: 01950 - cost: 0.20188 - accuracy: 0.86387\n",
            "Test set accuracy: 0.90\n",
            "fscore is\n",
            "0.9049180327868853\n"
          ],
          "name": "stdout"
        },
        {
          "output_type": "display_data",
          "data": {
            "image/png": "[encoded data removed]",
            "text/plain": [
              "<Figure size 432x288 with 1 Axes>"
            ]
          },
          "metadata": {
            "tags": [],
            "needs_background": "light"
          }
        }
      ]
    },
    {
      "cell_type": "code",
      "metadata": {
        "id": "hgGsO6FEB3Gw",
        "colab_type": "code",
        "outputId": "bcf3d2e1-7cf3-492a-dd28-fc7e2a5e5640",
        "colab": {
          "base_uri": "https://localhost:8080/",
          "height": 1000
        }
      },
      "source": [
        "final_model(xTrain,yTrain,NN_ARCHITECTURE6,2000,0.08,xTest,yTest)"
      ],
      "execution_count": 0,
      "outputs": [
        {
          "output_type": "stream",
          "text": [
            "Iteration: 00000 - cost: 0.25762 - accuracy: 0.49743\n",
            "Iteration: 00050 - cost: 0.24958 - accuracy: 0.50771\n",
            "Iteration: 00100 - cost: 0.24928 - accuracy: 0.51712\n",
            "Iteration: 00150 - cost: 0.24896 - accuracy: 0.52483\n",
            "Iteration: 00200 - cost: 0.24861 - accuracy: 0.56336\n",
            "Iteration: 00250 - cost: 0.24822 - accuracy: 0.61644\n",
            "Iteration: 00300 - cost: 0.24778 - accuracy: 0.67637\n",
            "Iteration: 00350 - cost: 0.24728 - accuracy: 0.72774\n",
            "Iteration: 00400 - cost: 0.24670 - accuracy: 0.77654\n",
            "Iteration: 00450 - cost: 0.24604 - accuracy: 0.80908\n",
            "Iteration: 00500 - cost: 0.24526 - accuracy: 0.82791\n",
            "Iteration: 00550 - cost: 0.24437 - accuracy: 0.84161\n",
            "Iteration: 00600 - cost: 0.24336 - accuracy: 0.84589\n",
            "Iteration: 00650 - cost: 0.24219 - accuracy: 0.84418\n",
            "Iteration: 00700 - cost: 0.24084 - accuracy: 0.85788\n",
            "Iteration: 00750 - cost: 0.23925 - accuracy: 0.85873\n",
            "Iteration: 00800 - cost: 0.23738 - accuracy: 0.86130\n",
            "Iteration: 00850 - cost: 0.23517 - accuracy: 0.86387\n",
            "Iteration: 00900 - cost: 0.23257 - accuracy: 0.86473\n",
            "Iteration: 00950 - cost: 0.22949 - accuracy: 0.86644\n",
            "Iteration: 01000 - cost: 0.22586 - accuracy: 0.86387\n",
            "Iteration: 01050 - cost: 0.22160 - accuracy: 0.86045\n",
            "Iteration: 01100 - cost: 0.21664 - accuracy: 0.86216\n",
            "Iteration: 01150 - cost: 0.21095 - accuracy: 0.86301\n",
            "Iteration: 01200 - cost: 0.20453 - accuracy: 0.86301\n",
            "Iteration: 01250 - cost: 0.19742 - accuracy: 0.86387\n",
            "Iteration: 01300 - cost: 0.18973 - accuracy: 0.86387\n",
            "Iteration: 01350 - cost: 0.18164 - accuracy: 0.86387\n",
            "Iteration: 01400 - cost: 0.17336 - accuracy: 0.86473\n",
            "Iteration: 01450 - cost: 0.16514 - accuracy: 0.85959\n",
            "Iteration: 01500 - cost: 0.15720 - accuracy: 0.86130\n",
            "Iteration: 01550 - cost: 0.14974 - accuracy: 0.86387\n",
            "Iteration: 01600 - cost: 0.14288 - accuracy: 0.86473\n",
            "Iteration: 01650 - cost: 0.13671 - accuracy: 0.86729\n",
            "Iteration: 01700 - cost: 0.13123 - accuracy: 0.86729\n",
            "Iteration: 01750 - cost: 0.12641 - accuracy: 0.86473\n",
            "Iteration: 01800 - cost: 0.12221 - accuracy: 0.86387\n",
            "Iteration: 01850 - cost: 0.11856 - accuracy: 0.86301\n",
            "Iteration: 01900 - cost: 0.11538 - accuracy: 0.86387\n",
            "Iteration: 01950 - cost: 0.11261 - accuracy: 0.86729\n",
            "Test set accuracy: 0.91\n",
            "fscore is\n",
            "0.9120521172638436\n"
          ],
          "name": "stdout"
        },
        {
          "output_type": "display_data",
          "data": {
            "image/png": "[encoded data removed]",
            "text/plain": [
              "<Figure size 432x288 with 1 Axes>"
            ]
          },
          "metadata": {
            "tags": [],
            "needs_background": "light"
          }
        }
      ]
    },
    {
      "cell_type": "code",
      "metadata": {
        "id": "xHUlZM88B7yM",
        "colab_type": "code",
        "outputId": "118844f9-b6d1-433c-dc80-61ee7c2ac20c",
        "colab": {
          "base_uri": "https://localhost:8080/",
          "height": 758
        }
      },
      "source": [
        "final_model(xTrain,yTrain,NN_ARCHITECTURE6,1200,0.05,xTest,yTest)"
      ],
      "execution_count": 0,
      "outputs": [
        {
          "output_type": "stream",
          "text": [
            "Iteration: 00000 - cost: 0.25762 - accuracy: 0.49743\n",
            "Iteration: 00050 - cost: 0.24969 - accuracy: 0.63870\n",
            "Iteration: 00100 - cost: 0.24950 - accuracy: 0.50856\n",
            "Iteration: 00150 - cost: 0.24932 - accuracy: 0.51541\n",
            "Iteration: 00200 - cost: 0.24913 - accuracy: 0.52140\n",
            "Iteration: 00250 - cost: 0.24892 - accuracy: 0.52654\n",
            "Iteration: 00300 - cost: 0.24871 - accuracy: 0.54281\n",
            "Iteration: 00350 - cost: 0.24847 - accuracy: 0.58904\n",
            "Iteration: 00400 - cost: 0.24822 - accuracy: 0.61729\n",
            "Iteration: 00450 - cost: 0.24795 - accuracy: 0.65411\n",
            "Iteration: 00500 - cost: 0.24766 - accuracy: 0.69264\n",
            "Iteration: 00550 - cost: 0.24734 - accuracy: 0.71918\n",
            "Iteration: 00600 - cost: 0.24700 - accuracy: 0.74829\n",
            "Iteration: 00650 - cost: 0.24662 - accuracy: 0.78168\n",
            "Iteration: 00700 - cost: 0.24621 - accuracy: 0.80394\n",
            "Iteration: 00750 - cost: 0.24576 - accuracy: 0.81336\n",
            "Iteration: 00800 - cost: 0.24526 - accuracy: 0.82791\n",
            "Iteration: 00850 - cost: 0.24472 - accuracy: 0.83818\n",
            "Iteration: 00900 - cost: 0.24413 - accuracy: 0.84675\n",
            "Iteration: 00950 - cost: 0.24349 - accuracy: 0.84503\n",
            "Iteration: 01000 - cost: 0.24279 - accuracy: 0.84675\n",
            "Iteration: 01050 - cost: 0.24203 - accuracy: 0.84675\n",
            "Iteration: 01100 - cost: 0.24119 - accuracy: 0.85788\n",
            "Iteration: 01150 - cost: 0.24026 - accuracy: 0.86045\n",
            "Test set accuracy: 0.89\n",
            "fscore is\n",
            "0.8934707903780069\n"
          ],
          "name": "stdout"
        },
        {
          "output_type": "display_data",
          "data": {
            "image/png": "[encoded data removed]",
            "text/plain": [
              "<Figure size 432x288 with 1 Axes>"
            ]
          },
          "metadata": {
            "tags": [],
            "needs_background": "light"
          }
        }
      ]
    },
    {
      "cell_type": "code",
      "metadata": {
        "id": "l_JC7KbkChsW",
        "colab_type": "code",
        "outputId": "8fbff1ff-9609-4754-a0ec-caa6db5fcd44",
        "colab": {
          "base_uri": "https://localhost:8080/",
          "height": 1000
        }
      },
      "source": [
        "final_model(xTrain,yTrain,NN_ARCHITECTURE6,2000,0.12,xTest,yTest)"
      ],
      "execution_count": 0,
      "outputs": [
        {
          "output_type": "stream",
          "text": [
            "Iteration: 00000 - cost: 0.25762 - accuracy: 0.49743\n",
            "Iteration: 00050 - cost: 0.24943 - accuracy: 0.51199\n",
            "Iteration: 00100 - cost: 0.24896 - accuracy: 0.52483\n",
            "Iteration: 00150 - cost: 0.24842 - accuracy: 0.59675\n",
            "Iteration: 00200 - cost: 0.24778 - accuracy: 0.67637\n",
            "Iteration: 00250 - cost: 0.24700 - accuracy: 0.74743\n",
            "Iteration: 00300 - cost: 0.24604 - accuracy: 0.80908\n",
            "Iteration: 00350 - cost: 0.24484 - accuracy: 0.83733\n",
            "Iteration: 00400 - cost: 0.24337 - accuracy: 0.84589\n",
            "Iteration: 00450 - cost: 0.24155 - accuracy: 0.85445\n",
            "Iteration: 00500 - cost: 0.23926 - accuracy: 0.85959\n",
            "Iteration: 00550 - cost: 0.23634 - accuracy: 0.86216\n",
            "Iteration: 00600 - cost: 0.23259 - accuracy: 0.86473\n",
            "Iteration: 00650 - cost: 0.22778 - accuracy: 0.86473\n",
            "Iteration: 00700 - cost: 0.22164 - accuracy: 0.86045\n",
            "Iteration: 00750 - cost: 0.21395 - accuracy: 0.86130\n",
            "Iteration: 00800 - cost: 0.20460 - accuracy: 0.86301\n",
            "Iteration: 00850 - cost: 0.19372 - accuracy: 0.86387\n",
            "Iteration: 00900 - cost: 0.18173 - accuracy: 0.86387\n",
            "Iteration: 00950 - cost: 0.16932 - accuracy: 0.86216\n",
            "Iteration: 01000 - cost: 0.15729 - accuracy: 0.86216\n",
            "Iteration: 01050 - cost: 0.14630 - accuracy: 0.86387\n",
            "Iteration: 01100 - cost: 0.13677 - accuracy: 0.86729\n",
            "Iteration: 01150 - cost: 0.12879 - accuracy: 0.86473\n",
            "Iteration: 01200 - cost: 0.12225 - accuracy: 0.86387\n",
            "Iteration: 01250 - cost: 0.11695 - accuracy: 0.86301\n",
            "Iteration: 01300 - cost: 0.11264 - accuracy: 0.86729\n",
            "Iteration: 01350 - cost: 0.10912 - accuracy: 0.86729\n",
            "Iteration: 01400 - cost: 0.10621 - accuracy: 0.86901\n",
            "Iteration: 01450 - cost: 0.10379 - accuracy: 0.86901\n",
            "Iteration: 01500 - cost: 0.10175 - accuracy: 0.86901\n",
            "Iteration: 01550 - cost: 0.10001 - accuracy: 0.87158\n",
            "Iteration: 01600 - cost: 0.09851 - accuracy: 0.87243\n",
            "Iteration: 01650 - cost: 0.09721 - accuracy: 0.87414\n",
            "Iteration: 01700 - cost: 0.09606 - accuracy: 0.87329\n",
            "Iteration: 01750 - cost: 0.09505 - accuracy: 0.87329\n",
            "Iteration: 01800 - cost: 0.09414 - accuracy: 0.87586\n",
            "Iteration: 01850 - cost: 0.09332 - accuracy: 0.87671\n",
            "Iteration: 01900 - cost: 0.09257 - accuracy: 0.87757\n",
            "Iteration: 01950 - cost: 0.09189 - accuracy: 0.87757\n",
            "Test set accuracy: 0.92\n",
            "fscore is\n",
            "0.9266666666666667\n"
          ],
          "name": "stdout"
        },
        {
          "output_type": "display_data",
          "data": {
            "image/png": "[encoded data removed]",
            "text/plain": [
              "<Figure size 432x288 with 1 Axes>"
            ]
          },
          "metadata": {
            "tags": [],
            "needs_background": "light"
          }
        }
      ]
    },
    {
      "cell_type": "code",
      "metadata": {
        "id": "QRaipNSyDVhz",
        "colab_type": "code",
        "colab": {}
      },
      "source": [
        "NN_ARCHITECTURE7= [ {\"input_dim\": 10, \"output_dim\": 2, \"activation\": \"relu\"}, \n",
        "                  \n",
        "                   {\"input_dim\": 2, \"output_dim\": 1, \"activation\": \"sigmoid\"}, ]\n",
        "                   #epochs=1000,lr-0.08"
      ],
      "execution_count": 0,
      "outputs": []
    },
    {
      "cell_type": "code",
      "metadata": {
        "id": "6HxCeI3VDh6D",
        "colab_type": "code",
        "outputId": "cff60aee-4509-41b1-ccdb-9f7677a8d29d",
        "colab": {
          "base_uri": "https://localhost:8080/",
          "height": 1000
        }
      },
      "source": [
        "final_model(xTrain,yTrain,NN_ARCHITECTURE7,2000,0.12,xTest,yTest)"
      ],
      "execution_count": 0,
      "outputs": [
        {
          "output_type": "stream",
          "text": [
            "Iteration: 00000 - cost: 0.25062 - accuracy: 0.50257\n",
            "Iteration: 00050 - cost: 0.25027 - accuracy: 0.50257\n",
            "Iteration: 00100 - cost: 0.25013 - accuracy: 0.50257\n",
            "Iteration: 00150 - cost: 0.25006 - accuracy: 0.50257\n",
            "Iteration: 00200 - cost: 0.25003 - accuracy: 0.50257\n",
            "Iteration: 00250 - cost: 0.25001 - accuracy: 0.50257\n",
            "Iteration: 00300 - cost: 0.25000 - accuracy: 0.50257\n",
            "Iteration: 00350 - cost: 0.25000 - accuracy: 0.50257\n",
            "Iteration: 00400 - cost: 0.24999 - accuracy: 0.50257\n",
            "Iteration: 00450 - cost: 0.24999 - accuracy: 0.50257\n",
            "Iteration: 00500 - cost: 0.24999 - accuracy: 0.50257\n",
            "Iteration: 00550 - cost: 0.24999 - accuracy: 0.50257\n",
            "Iteration: 00600 - cost: 0.24998 - accuracy: 0.50257\n",
            "Iteration: 00650 - cost: 0.24997 - accuracy: 0.50257\n",
            "Iteration: 00700 - cost: 0.24994 - accuracy: 0.50257\n",
            "Iteration: 00750 - cost: 0.24990 - accuracy: 0.50257\n",
            "Iteration: 00800 - cost: 0.24981 - accuracy: 0.50257\n",
            "Iteration: 00850 - cost: 0.24964 - accuracy: 0.52397\n",
            "Iteration: 00900 - cost: 0.24932 - accuracy: 0.70634\n",
            "Iteration: 00950 - cost: 0.24872 - accuracy: 0.80908\n",
            "Iteration: 01000 - cost: 0.24764 - accuracy: 0.74144\n",
            "Iteration: 01050 - cost: 0.24573 - accuracy: 0.66267\n",
            "Iteration: 01100 - cost: 0.24254 - accuracy: 0.65240\n",
            "Iteration: 01150 - cost: 0.23752 - accuracy: 0.69777\n",
            "Iteration: 01200 - cost: 0.23012 - accuracy: 0.75685\n",
            "Iteration: 01250 - cost: 0.21993 - accuracy: 0.80137\n",
            "Iteration: 01300 - cost: 0.20682 - accuracy: 0.82962\n",
            "Iteration: 01350 - cost: 0.19166 - accuracy: 0.84418\n",
            "Iteration: 01400 - cost: 0.17618 - accuracy: 0.85274\n",
            "Iteration: 01450 - cost: 0.16229 - accuracy: 0.85274\n",
            "Iteration: 01500 - cost: 0.15059 - accuracy: 0.85616\n",
            "Iteration: 01550 - cost: 0.14099 - accuracy: 0.85702\n",
            "Iteration: 01600 - cost: 0.13314 - accuracy: 0.86301\n",
            "Iteration: 01650 - cost: 0.12672 - accuracy: 0.86045\n",
            "Iteration: 01700 - cost: 0.12142 - accuracy: 0.86301\n",
            "Iteration: 01750 - cost: 0.11703 - accuracy: 0.86558\n",
            "Iteration: 01800 - cost: 0.11335 - accuracy: 0.86644\n",
            "Iteration: 01850 - cost: 0.11024 - accuracy: 0.87158\n",
            "Iteration: 01900 - cost: 0.10759 - accuracy: 0.87243\n",
            "Iteration: 01950 - cost: 0.10531 - accuracy: 0.87414\n",
            "Test set accuracy: 0.92\n",
            "fscore is\n",
            "0.9210526315789473\n"
          ],
          "name": "stdout"
        },
        {
          "output_type": "display_data",
          "data": {
            "image/png": "[encoded data removed]",
            "text/plain": [
              "<Figure size 432x288 with 1 Axes>"
            ]
          },
          "metadata": {
            "tags": [],
            "needs_background": "light"
          }
        }
      ]
    }
  ]
}